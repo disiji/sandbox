{
 "cells": [
  {
   "cell_type": "code",
   "execution_count": 3,
   "metadata": {
    "collapsed": false
   },
   "outputs": [],
   "source": [
    "import os\n",
    "import sys\n",
    "import glob\n",
    "import pickle\n",
    "import itertools\n",
    "import random\n",
    "\n",
    "from IPython.display import Image\n",
    "\n",
    "import matplotlib\n",
    "import matplotlib.pyplot as plt\n",
    "import matplotlib.mlab as mlab\n",
    "from matplotlib.colors import ListedColormap\n",
    "from scipy.stats import multivariate_normal\n",
    "\n",
    "import numpy as np\n",
    "import pandas as pd\n",
    "from scipy.stats import beta\n",
    "\n",
    "\n",
    "from flowMP import *\n",
    "\n",
    "random.seed(1234)\n",
    "%matplotlib inline"
   ]
  },
  {
   "cell_type": "markdown",
   "metadata": {},
   "source": [
    "## Flow Cytometry Data\n",
    "\n",
    "Load AML dataset from [ACDC paper](https://www.ncbi.nlm.nih.gov/pmc/articles/PMC5447237/pdf/btx054.pdf)..."
   ]
  },
  {
   "cell_type": "code",
   "execution_count": 4,
   "metadata": {
    "collapsed": false
   },
   "outputs": [
    {
     "name": "stdout",
     "output_type": "stream",
     "text": [
      "(14, 32)\n"
     ]
    }
   ],
   "source": [
    "# load AML data and table\n",
    "##### X: np.array, flow cytometry data, arcsin transformed\n",
    "##### T: table of expert knowledge\n",
    "\n",
    "np.random.seed(1234)\n",
    "PATH = '/home/disij/projects/acdc/data/'\n",
    "\n",
    "### LOAD DATA ###\n",
    "path = PATH + 'AML_benchmark/'\n",
    "df = pd.read_csv( path + 'AML_benchmark.csv.gz', sep=',', header = 0, compression = 'gzip', engine='python')\n",
    "table = pd.read_csv(path + 'AML_table.csv', sep=',', header=0, index_col=0)\n",
    "print table.shape\n",
    "\n",
    "### PROCESS: discard ungated events ###\n",
    "df = df[df.cell_type != 'NotGated']\n",
    "df = df.drop(['Time', 'Cell_length','file_number', 'event_number', 'DNA1(Ir191)Di',\n",
    "              'DNA2(Ir193)Di', 'Viability(Pt195)Di', 'subject'], axis = 1)\n",
    "channels = [item[:item.find('(')] for item in df.columns[:-1]]\n",
    "df.columns = channels + ['cell_type']\n",
    "df = df.loc[df['cell_type'] != 'NotDebrisSinglets']\n",
    "\n",
    "table = table.fillna(0)\n",
    "X = df[channels].values\n",
    "table_headers = list(table)\n",
    "# df2 = pd.DataFrame([[0]*table.shape[1]], columns=table.columns, index =['unknown'])\n",
    "# table = table.append(df2)\n",
    "\n",
    "### transform data\n",
    "data = np.arcsinh((X-1.)/5.)\n",
    "theta_space = np.array([[data[:,d].min(), data[:,d].max()] for d in range(data.shape[1])])\n",
    "\n",
    "\n",
    "cell_type_name2idx = {x:i for i,x in enumerate(table.index)}\n",
    "Y = np.array([cell_type_name2idx[_] for _ in df.cell_type])"
   ]
  },
  {
   "cell_type": "code",
   "execution_count": 5,
   "metadata": {
    "collapsed": false
   },
   "outputs": [
    {
     "name": "stdout",
     "output_type": "stream",
     "text": [
      "(104184, 32)\n"
     ]
    }
   ],
   "source": [
    "print data.shape"
   ]
  },
  {
   "cell_type": "markdown",
   "metadata": {},
   "source": [
    "## Experiment #1: 2D Simulation\n",
    "\n",
    "Let's now test out the idea on a 2D subset of the data: the *CD4* and *CD8* features."
   ]
  },
  {
   "cell_type": "code",
   "execution_count": null,
   "metadata": {
    "collapsed": false
   },
   "outputs": [],
   "source": [
    "data_2d = np.hstack([data[:,5][np.newaxis].T, data[:,6][np.newaxis].T])\n",
    "np.random.shuffle(data_2d)\n",
    "data_2d = data_2d[:1000,:]\n",
    "print data_2d.shape\n",
    "\n",
    "x_min, y_min, x_max, y_max = data_2d[:,0].min(), data_2d[:,1].min(), data_2d[:,0].max(), data_2d[:,1].max()\n",
    "theta_space_2d = np.array([[x_min, x_max], [y_min, y_max]])\n",
    "print theta_space_2d\n",
    "\n",
    "table_2d = table[['CD4','CD8']]\n",
    "\n",
    "\n",
    "data_2d_shifted = data_2d\n",
    "data_2d_shifted += np.array([1,1])\n",
    "\n",
    "\n",
    "samples_2d = [data_2d, data_2d_shifted]"
   ]
  },
  {
   "cell_type": "markdown",
   "metadata": {},
   "source": [
    "Now run MCMC to collect posterior samples..."
   ]
  },
  {
   "cell_type": "code",
   "execution_count": 9,
   "metadata": {
    "collapsed": false,
    "scrolled": true
   },
   "outputs": [
    {
     "name": "stdout",
     "output_type": "stream",
     "text": [
      "Drawing Chain 0 ...\n",
      "Total number of accepted samples: 1928\n",
      "CPU times: user 20.4 s, sys: 10.2 ms, total: 20.5 s\n",
      "Wall time: 20.4 s\n"
     ]
    }
   ],
   "source": [
    "%%time\n",
    "\n",
    "n_mcmc_chain = 5\n",
    "n_mcmc_sample = 1000\n",
    "mcmc_gaussin_std = 0.005 # tune step size s.t. acceptance rate ~50%\n",
    "\n",
    "accepts = [[] for _ in range(n_mcmc_chain)]\n",
    "rejects = [[] for _ in range(n_mcmc_chain)]\n",
    "\n",
    "\n",
    "for chain in range(n_mcmc_chain):\n",
    "    \n",
    "    if chain % 5 == 0:\n",
    "        print \"Drawing Chain %d ...\" % chain\n",
    "    \n",
    "    sample = draw_informed_Mondrian(theta_space_2d, table_2d)\n",
    "    log_p_sample = comp_log_p_sample(sample, data_2d) + \\\n",
    "                     comp_log_p_prior(sample, table_2d, [1 for _ in range(table_2d.shape[1])])\n",
    "    \n",
    "    accepts[chain].append(sample)\n",
    "    \n",
    "    for idx in xrange(n_mcmc_sample):\n",
    "        \n",
    "        new_sample = Mondrian_Gaussian_perturbation(theta_space_2d,sample, mcmc_gaussin_std)\n",
    "\n",
    "        # perform accept-reject step\n",
    "        new_log_p_sample = comp_log_p_sample(new_sample, data_2d) + \\\n",
    "                            comp_log_p_prior(new_sample, table_2d, [1 for _ in range(table_2d.shape[1])])\n",
    "        \n",
    "        if new_log_p_sample <  log_p_sample and \\\n",
    "            np.log(np.random.uniform(low=0, high=1.)) > new_log_p_sample - log_p_sample:\n",
    "                rejects[chain].append(new_sample)\n",
    "        \n",
    "        else:\n",
    "            sample = new_sample\n",
    "            log_p_sample = new_log_p_sample\n",
    "            accepts[chain].append(sample)\n",
    "        \n",
    "\n",
    "        if (idx+1) % 10000 == 0 and (chain+1) % 1 == 0:\n",
    "            print \"Iteration %d, cummulative accepted sample size is %d\" %(idx+1, len(accepts[chain]))\n",
    "\n",
    "print \"Total number of accepted samples: %d\" %(sum([len(accepts[chain]) for chain in range(n_mcmc_chain)]))"
   ]
  },
  {
   "cell_type": "code",
   "execution_count": null,
   "metadata": {
    "collapsed": false
   },
   "outputs": [],
   "source": [
    "# get an average model\n",
    "burnt_accepts = np.array([_ for chain in accepts for _ in chain[len(chain)*10/11:]])"
   ]
  }
 ],
 "metadata": {
  "kernelspec": {
   "display_name": "Python 2",
   "language": "python",
   "name": "python2"
  },
  "language_info": {
   "codemirror_mode": {
    "name": "ipython",
    "version": 2
   },
   "file_extension": ".py",
   "mimetype": "text/x-python",
   "name": "python",
   "nbconvert_exporter": "python",
   "pygments_lexer": "ipython2",
   "version": "2.7.11"
  }
 },
 "nbformat": 4,
 "nbformat_minor": 1
}
