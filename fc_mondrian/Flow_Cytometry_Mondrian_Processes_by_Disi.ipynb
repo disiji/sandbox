{
 "cells": [
  {
   "cell_type": "code",
   "execution_count": 1,
   "metadata": {
    "collapsed": true
   },
   "outputs": [],
   "source": [
    "import os\n",
    "import sys\n",
    "import glob\n",
    "import itertools\n",
    "\n",
    "from IPython.display import Image\n",
    "\n",
    "import matplotlib\n",
    "import matplotlib.pyplot as plt\n",
    "import matplotlib.mlab as mlab\n",
    "from matplotlib.colors import ListedColormap\n",
    "\n",
    "import numpy as np\n",
    "import pandas as pd\n",
    "\n",
    "np.random.seed(1234)\n",
    "\n",
    "%matplotlib inline"
   ]
  },
  {
   "cell_type": "markdown",
   "metadata": {},
   "source": [
    "# Load AML data"
   ]
  },
  {
   "cell_type": "code",
   "execution_count": 2,
   "metadata": {},
   "outputs": [
    {
     "name": "stdout",
     "output_type": "stream",
     "text": [
      "                        CD45RA  CD133  CD19  CD22  CD11b  CD4  CD8  CD34  \\\n",
      "Basophils                  0.0    0.0    -1   0.0    0.0  0.0 -1.0    -1   \n",
      "CD4 T cells                0.0    0.0    -1   0.0    0.0  1.0 -1.0    -1   \n",
      "CD8 T cells                0.0    0.0    -1   0.0    0.0 -1.0  1.0    -1   \n",
      "CD16- NK cells             0.0    0.0    -1   0.0    0.0  0.0  0.0    -1   \n",
      "CD16+ NK cells             0.0    0.0    -1   0.0    0.0  0.0  0.0    -1   \n",
      "CD34+CD38+CD123- HSPCs     0.0    0.0    -1   0.0    0.0  0.0 -1.0     1   \n",
      "CD34+CD38+CD123+ HSPCs     0.0    0.0    -1   0.0    0.0  0.0 -1.0     1   \n",
      "CD34+CD38lo HSCs           0.0    0.0    -1   0.0    0.0  0.0 -1.0     1   \n",
      "Mature B cells             0.0    0.0     1   0.0    0.0  0.0 -1.0    -1   \n",
      "Plasma B cells             0.0    0.0     1   0.0    0.0  0.0 -1.0    -1   \n",
      "Pre B cells                0.0    0.0     1   0.0    0.0  0.0 -1.0    -1   \n",
      "Pro B cells                0.0    0.0     1   0.0    0.0  0.0 -1.0     1   \n",
      "Monocytes                  0.0    0.0    -1   0.0    0.0  0.0 -1.0    -1   \n",
      "pDCs                       0.0    0.0    -1   0.0    0.0  0.0 -1.0    -1   \n",
      "\n",
      "                        Flt3  CD20  ...   CD44  CD38  CD13  CD3  CD61  CD117  \\\n",
      "Basophils                0.0  -1.0  ...    0.0   0.0   0.0   -1   0.0    0.0   \n",
      "CD4 T cells              0.0  -1.0  ...    0.0   0.0   0.0    1   0.0    0.0   \n",
      "CD8 T cells              0.0  -1.0  ...    0.0   0.0   0.0    1   0.0    0.0   \n",
      "CD16- NK cells           0.0  -1.0  ...    0.0   0.0   0.0   -1   0.0    0.0   \n",
      "CD16+ NK cells           0.0   0.0  ...    0.0   0.0   0.0   -1   0.0    0.0   \n",
      "CD34+CD38+CD123- HSPCs   0.0  -1.0  ...    0.0   1.0   0.0   -1   0.0    0.0   \n",
      "CD34+CD38+CD123+ HSPCs   0.0  -1.0  ...    0.0   1.0   0.0   -1   0.0    0.0   \n",
      "CD34+CD38lo HSCs         0.0  -1.0  ...    0.0  -1.0   0.0   -1   0.0    0.0   \n",
      "Mature B cells           0.0   0.0  ...    0.0   0.0   0.0   -1   0.0    0.0   \n",
      "Plasma B cells           0.0   0.0  ...    0.0   1.0   0.0   -1   0.0    0.0   \n",
      "Pre B cells              0.0   0.0  ...    0.0   1.0   0.0   -1   0.0    0.0   \n",
      "Pro B cells              0.0   0.0  ...    0.0   1.0   0.0   -1   0.0    0.0   \n",
      "Monocytes                0.0  -1.0  ...    0.0   0.0   0.0   -1   0.0    0.0   \n",
      "pDCs                     0.0  -1.0  ...    0.0   0.0   0.0   -1   0.0    0.0   \n",
      "\n",
      "                        CD49d  HLA-DR  CD64  CD41  \n",
      "Basophils                 0.0    -1.0  -1.0   0.0  \n",
      "CD4 T cells               0.0    -1.0  -1.0   0.0  \n",
      "CD8 T cells               0.0    -1.0  -1.0   0.0  \n",
      "CD16- NK cells            0.0    -1.0  -1.0   0.0  \n",
      "CD16+ NK cells            0.0    -1.0  -1.0   0.0  \n",
      "CD34+CD38+CD123- HSPCs    0.0     0.0  -1.0   0.0  \n",
      "CD34+CD38+CD123+ HSPCs    0.0     0.0  -1.0   0.0  \n",
      "CD34+CD38lo HSCs          0.0     0.0  -1.0   0.0  \n",
      "Mature B cells            0.0     0.0   0.0   0.0  \n",
      "Plasma B cells            0.0    -1.0   0.0   0.0  \n",
      "Pre B cells               0.0     1.0  -1.0   0.0  \n",
      "Pro B cells               0.0     0.0  -1.0   0.0  \n",
      "Monocytes                 0.0     1.0   0.0   0.0  \n",
      "pDCs                      0.0     1.0  -1.0   0.0  \n",
      "\n",
      "[14 rows x 32 columns]\n",
      "(104184, 32)\n"
     ]
    }
   ],
   "source": [
    "# load AML data and table\n",
    "##### X: np.array, flow cytometry data, arcsin transformed\n",
    "##### T: table of expert knowledge\n",
    "\n",
    "np.random.seed(1234)\n",
    "PATH = '/Users/disiji/Dropbox/current/flow_cytometry/acdc/data/'\n",
    "\n",
    "### LOAD DATA ###\n",
    "path = PATH + 'AML_benchmark/'\n",
    "df = pd.read_csv( path + 'AML_benchmark.csv.gz', sep=',', header = 0, compression = 'gzip', engine='python')\n",
    "table = pd.read_csv(path + 'AML_table.csv', sep=',', header=0, index_col=0)\n",
    "\n",
    "### PROCESS: discard ungated events ###\n",
    "df = df[df.cell_type != 'NotGated']\n",
    "df = df.drop(['Time', 'Cell_length','file_number', 'event_number', 'DNA1(Ir191)Di',\n",
    "              'DNA2(Ir193)Di', 'Viability(Pt195)Di', 'subject'], axis = 1)\n",
    "channels = [item[:item.find('(')] for item in df.columns[:-1]]\n",
    "df.columns = channels + ['cell_type']\n",
    "df = df.loc[df['cell_type'] != 'NotDebrisSinglets']\n",
    "\n",
    "table = table.fillna(0)\n",
    "X = df[channels].values\n",
    "table_headers = list(table)\n",
    "\n",
    "### transform data\n",
    "data = np.arcsinh((X-1.)/5.)\n",
    "\n",
    "print table\n",
    "print X.shape"
   ]
  },
  {
   "cell_type": "markdown",
   "metadata": {},
   "source": [
    "Explore a little bit about properties of arcsinh..."
   ]
  },
  {
   "cell_type": "code",
   "execution_count": 3,
   "metadata": {},
   "outputs": [
    {
     "name": "stdout",
     "output_type": "stream",
     "text": [
      "44.4422639474\n"
     ]
    },
    {
     "data": {
      "image/png": "[encoded data removed]",
      "text/plain": [
       "<matplotlib.figure.Figure at 0x10c825b10>"
      ]
     },
     "metadata": {},
     "output_type": "display_data"
    }
   ],
   "source": [
    "t1 = np.arange(-10.0, 10.0, 0.1)\n",
    "t2 = np.arcsinh(t1)\n",
    "plt.plot(t1,t2)\n",
    "\n",
    "print np.arcsinh(10000000000000000000)"
   ]
  },
  {
   "cell_type": "markdown",
   "metadata": {},
   "source": [
    "# Draw cuts with prior information\n",
    "Data is now in a D dimensional cube, the goal it to find one optimal cut in each dimension"
   ]
  },
  {
   "cell_type": "code",
   "execution_count": 4,
   "metadata": {
    "collapsed": true
   },
   "outputs": [],
   "source": [
    "def draw_informed_cuts(theta_space, table):\n",
    "    \"\"\"\n",
    "    INPUT: table: a K*D DataFrame of +-1 knowledge\n",
    "    OUTPUT: np.array of lenght D, cuts on each dimension \n",
    "    \"\"\"\n",
    "    # return a list of cuts \n",
    "    # INFORMATIVE PRIORS\n",
    "    upper_cut = (5., 1.)\n",
    "    lower_cut = (1., 5.)\n",
    "    middle_cut = (5., 5.)\n",
    "    neutral_cut = (1., 1.)\n",
    "    priors_dict = { '-1':lower_cut, '0':neutral_cut, '1':upper_cut, \n",
    "                   '-1 0':lower_cut, '-1 1':middle_cut, '0 1':upper_cut,\n",
    "                   '-1 0 1': middle_cut\n",
    "                  }\n",
    "    \n",
    "    headers = list(table)\n",
    "    \n",
    "    matching_prior_info = [np.unique(table[_]) for _ in headers]\n",
    "    prior_type_str = [' '.join([str(int(x)) for x in _ ]) for _ in matching_prior_info]\n",
    "    prior_params = [priors_dict[_] for _ in prior_type_str]\n",
    "    \n",
    "    cuts = [(theta_space[d,1] - theta_space[d,0]) * np.random.beta(prior_params[d][0], prior_params[d][1]) \n",
    "            for d in range(len(headers))]\n",
    "    return cuts"
   ]
  },
  {
   "cell_type": "code",
   "execution_count": 5,
   "metadata": {
    "collapsed": true
   },
   "outputs": [],
   "source": [
    "def count_points_per_box(data,cuts):\n",
    "    \"\"\"\n",
    "    INPUT: \n",
    "    data : N*D np.array\n",
    "    cuts: np.array of lenght D, cuts on each dimension\n",
    "    OUTPUT:\n",
    "    D folds of lists: number of data points in each box\n",
    "    \"\"\"\n",
    "    D = len(cuts)\n",
    "    idx_left = data[:,0] < cuts[0]\n",
    "    idx_right = data[:,0] >= cuts[0]\n",
    "    \n",
    "    if D == 1:\n",
    "        return [idx_left.sum(),idx_right.sum()]\n",
    "    \n",
    "    return [count_points_per_box(data[idx_left,1:],cuts[1:]),count_points_per_box(data[idx_right,1:],cuts[1:])]\n",
    "\n",
    "def comp_size_per_box(theta_space, cuts):\n",
    "    \"\"\"\n",
    "    INPUT: \n",
    "    theta_space : D*2 np.array, min and max of each dimension\n",
    "    cuts: np.array of lenght D, cuts on each dimension\n",
    "    OUTPUT:\n",
    "    D folds of lists: size of each box\n",
    "    \"\"\"\n",
    "    D = len(cuts)\n",
    "    len_left = cuts[0] - theta_space[0,0]\n",
    "    len_right = theta_space[0,1] - cuts[0]\n",
    "    if D == 1:\n",
    "        return [len_left, len_right]\n",
    "    \n",
    "    return [[len_left+ _ for _ in comp_size_per_box(theta_space[1:,], cuts[1:])],\n",
    "           [len_right+_ for _ in comp_size_per_box(theta_space[1:,], cuts[1:])]]\n",
    "\n",
    "def comp_log_p_sample(theta_space, data, cuts):\n",
    "    counts = np.array(count_points_per_box(data, cuts))\n",
    "    sizes = np.array(comp_size_per_box(theta_space, cuts))\n",
    "    return -(counts * np.log(sizes)).sum()    "
   ]
  },
  {
   "cell_type": "markdown",
   "metadata": {},
   "source": [
    "# Fit model to 2 dimensional data and visualize"
   ]
  },
  {
   "cell_type": "code",
   "execution_count": 6,
   "metadata": {},
   "outputs": [
    {
     "name": "stdout",
     "output_type": "stream",
     "text": [
      "(1000, 2)\n"
     ]
    }
   ],
   "source": [
    "data_2d = np.hstack([data[:,5][np.newaxis].T, data[:,6][np.newaxis].T])\n",
    "np.random.shuffle(data_2d)\n",
    "data_2d = data_2d[:1000,:]\n",
    "table_2d = table[['CD4','CD8']]\n",
    "print data_2d.shape\n",
    "\n",
    "x_min, y_min, x_max, y_max = data_2d[:,0].min(), data_2d[:,1].min(), data_2d[:,0].max(), data_2d[:,1].max()\n",
    "\n",
    "theta_space = np.array([[x_min, x_max], [y_min, y_max]])"
   ]
  },
  {
   "cell_type": "code",
   "execution_count": 7,
   "metadata": {},
   "outputs": [
    {
     "name": "stdout",
     "output_type": "stream",
     "text": [
      "Drawing Chain 0 ...\n",
      "Iteration 10000, Samples 529\n",
      "Number of samples collected: 529\n",
      "Drawing Chain 1 ...\n",
      "Iteration 10000, Samples 986\n",
      "Number of samples collected: 986\n",
      "Drawing Chain 2 ...\n",
      "Iteration 10000, Samples 1423\n",
      "Number of samples collected: 1423\n",
      "Drawing Chain 3 ...\n",
      "Iteration 10000, Samples 1881\n",
      "Number of samples collected: 1881\n",
      "Drawing Chain 4 ...\n",
      "Iteration 10000, Samples 2436\n",
      "Number of samples collected: 2436\n"
     ]
    }
   ],
   "source": [
    "n_mcmc_chain = 5\n",
    "n_mcmc_sample = 10000\n",
    "mcmc_gaussin_std = 0.05 # tune step size s.t. acceptance rate ~50%\n",
    "\n",
    "accepts = []\n",
    "rejects = []\n",
    "\n",
    "\n",
    "for chain in range(n_mcmc_chain):\n",
    "    \n",
    "    print \"Drawing Chain %d ...\" % chain\n",
    "    \n",
    "    sample = draw_informed_cuts(theta_space, table_2d)\n",
    "    log_p_sample = comp_log_p_sample(theta_space, data_2d, sample)\n",
    "    \n",
    "    accepts.append(sample)\n",
    "    \n",
    "    for idx in xrange(n_mcmc_sample):\n",
    "        \n",
    "        # propose a new sample under gaussian distribution\n",
    "        good_sample = False\n",
    "        while good_sample == False:\n",
    "            new_sample = np.random.normal(0, mcmc_gaussin_std, 2) + sample\n",
    "            if (new_sample > theta_space[:,0]).all() and (new_sample < theta_space[:,1]).all():\n",
    "                good_sample = True\n",
    "                \n",
    "        # perform accept-reject step\n",
    "        new_log_p_sample = comp_log_p_sample(theta_space, data_2d, new_sample)\n",
    "        \n",
    "        if new_log_p_sample <  log_p_sample and \\\n",
    "            np.log(np.random.uniform(low=0, high=1.)) > new_log_p_sample - log_p_sample:\n",
    "                rejects.append(new_sample)\n",
    "        \n",
    "        else:\n",
    "                sample = new_sample\n",
    "                log_p_sample = new_log_p_sample\n",
    "                accepts.append(sample)\n",
    "        \n",
    "\n",
    "        if (idx+1) % 10000 == 0:\n",
    "            print \"Iteration %d, Samples %d\" %(idx+1, len(accepts))\n",
    "\n",
    "    print \"Number of samples collected: %d\" %(len(accepts))"
   ]
  },
  {
   "cell_type": "markdown",
   "metadata": {},
   "source": [
    "to-do: burn-in and thinning ..."
   ]
  },
  {
   "cell_type": "code",
   "execution_count": 8,
   "metadata": {
    "scrolled": true
   },
   "outputs": [
    {
     "data": {
      "image/png": "[encoded data removed]",
      "text/plain": [
       "<matplotlib.figure.Figure at 0x128036990>"
      ]
     },
     "metadata": {},
     "output_type": "display_data"
    }
   ],
   "source": [
    "### VISUALIZE 2D POSTERIOR WITH DATA###\n",
    "def print_posterior(theta_space, data, list_of_cuts , trans_level=.05, color='k'):\n",
    "    plt.figure()    \n",
    "    plt.scatter(data[:,0], data[:,1], c='k', edgecolors='k', s=20, alpha=.5)\n",
    "\n",
    "    for cuts in list_of_cuts:\n",
    "        plt.plot([cuts[0], cuts[0]], [theta_space[1,0], theta_space[1,1]], color+'-', linewidth=5, alpha=trans_level)  \n",
    "        plt.plot([theta_space[0,0], theta_space[0,1]], [cuts[1], cuts[1]], color+'-', linewidth=5, alpha=trans_level)  \n",
    "\n",
    "np.random.shuffle(accepts)\n",
    "print_posterior(theta_space, data_2d, accepts[:100] , trans_level=.05, color='b')\n",
    "\n",
    "plt.xlabel(\"CD4\")\n",
    "plt.ylabel(\"CD8\")\n",
    "plt.title(\"Mondrian Process Posterior Samples\")\n",
    "\n",
    "plt.xlim([x_min, x_max])\n",
    "plt.ylim([y_min, y_max])\n",
    "plt.show()"
   ]
  },
  {
   "cell_type": "markdown",
   "metadata": {
    "collapsed": true
   },
   "source": [
    "# Fit model to 32 dimensional AML data"
   ]
  },
  {
   "cell_type": "code",
   "execution_count": 9,
   "metadata": {
    "collapsed": true
   },
   "outputs": [],
   "source": [
    "# input data: data, table\n",
    "theta_space = np.array([[data[:,d].min(), data[:,d].max()] for d in range(data.shape[1])])"
   ]
  },
  {
   "cell_type": "code",
   "execution_count": null,
   "metadata": {},
   "outputs": [
    {
     "name": "stdout",
     "output_type": "stream",
     "text": [
      "Drawing Chain 0 ...\n"
     ]
    }
   ],
   "source": [
    "%%time\n",
    "\n",
    "n_mcmc_chain = 5\n",
    "n_mcmc_sample = 10\n",
    "mcmc_gaussin_std = 0.05 # tune step size s.t. acceptance rate ~50%\n",
    "batch_size = 1000\n",
    "\n",
    "accepts = []\n",
    "rejects = []\n",
    "\n",
    "\n",
    "for chain in range(n_mcmc_chain):\n",
    "    \n",
    "    print \"Drawing Chain %d ...\" % chain\n",
    "    \n",
    "    sample = draw_informed_cuts(theta_space, table)\n",
    "    log_p_sample = comp_log_p_sample(theta_space, data[np.random.randint(data.shape[0], size=batch_size), :], sample)\n",
    "    \n",
    "    print \"fjdaklfjda\"\n",
    "    \n",
    "    accepts.append(sample)\n",
    "    \n",
    "    print \",mmmmm\"\n",
    "    for idx in xrange(n_mcmc_sample):\n",
    "        \n",
    "        # propose a new sample under gaussian distribution\n",
    "        good_sample = False\n",
    "        while good_sample == False:\n",
    "            new_sample = np.random.normal(0, mcmc_gaussin_std, 2) + sample\n",
    "            if [(new_sample > theta_space[:,d]).all() for d in range(data.shape[1])].all():\n",
    "                good_sample = True\n",
    "        \n",
    "        print \",,,,,,\"\n",
    "        \n",
    "        # perform accept-reject step\n",
    "        new_log_p_sample = comp_log_p_sample(theta_space, data[np.random.randint(data.shape[0], size=batch_size), :], new_sample)\n",
    "        \n",
    "        if new_log_p_sample <  log_p_sample and \\\n",
    "            np.log(np.random.uniform(low=0, high=1.)) > new_log_p_sample - log_p_sample:\n",
    "                rejects.append(new_sample)\n",
    "        \n",
    "        else:\n",
    "                sample = new_sample\n",
    "                log_p_sample = new_log_p_sample\n",
    "                accepts.append(sample)\n",
    "        \n",
    "\n",
    "        if (idx+1) % 1000 == 0:\n",
    "            print \"Iteration %d, Samples %d\" %(idx+1, len(accepts))\n",
    "\n",
    "    print \"Number of samples collected: %d\" %(len(accepts))"
   ]
  },
  {
   "cell_type": "code",
   "execution_count": null,
   "metadata": {
    "collapsed": true
   },
   "outputs": [],
   "source": []
  }
 ],
 "metadata": {
  "kernelspec": {
   "display_name": "Python 2",
   "language": "python",
   "name": "python2"
  },
  "language_info": {
   "codemirror_mode": {
    "name": "ipython",
    "version": 2
   },
   "file_extension": ".py",
   "mimetype": "text/x-python",
   "name": "python",
   "nbconvert_exporter": "python",
   "pygments_lexer": "ipython2",
   "version": "2.7.13"
  }
 },
 "nbformat": 4,
 "nbformat_minor": 2
}
