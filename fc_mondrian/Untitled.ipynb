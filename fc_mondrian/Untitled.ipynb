{
 "cells": [
  {
   "cell_type": "code",
   "execution_count": 14,
   "metadata": {
    "collapsed": true
   },
   "outputs": [],
   "source": [
    "import os\n",
    "import sys\n",
    "import glob\n",
    "import pickle\n",
    "import itertools\n",
    "import random\n",
    "\n",
    "from IPython.display import Image\n",
    "\n",
    "import matplotlib\n",
    "import matplotlib.pyplot as plt\n",
    "import matplotlib.mlab as mlab\n",
    "from matplotlib.colors import ListedColormap\n",
    "from scipy.stats import multivariate_normal\n",
    "\n",
    "import numpy as np\n",
    "import pandas as pd\n",
    "from scipy.stats import beta\n",
    "from scipy.stats import norm\n",
    "from sklearn import mixture\n",
    "\n",
    "\n",
    "from flowMP import *\n",
    "\n",
    "random.seed(1234)\n",
    "%matplotlib inline"
   ]
  },
  {
   "cell_type": "code",
   "execution_count": 6,
   "metadata": {
    "collapsed": false
   },
   "outputs": [
    {
     "name": "stdout",
     "output_type": "stream",
     "text": [
      "(14, 32)\n",
      "(104184, 32)\n"
     ]
    }
   ],
   "source": [
    "# load AML data and table\n",
    "##### X: np.array, flow cytometry data, arcsin transformed\n",
    "##### T: table of expert knowledge\n",
    "\n",
    "np.random.seed(1234)\n",
    "PATH = '/home/disij/projects/acdc/data/'\n",
    "#PATH = '/Users/disiji/Dropbox/current/flow_cytometry/acdc/data/'\n",
    "\n",
    "### LOAD DATA ###\n",
    "path = PATH + 'AML_benchmark/'\n",
    "df = pd.read_csv( path + 'AML_benchmark.csv.gz', sep=',', header = 0, compression = 'gzip', engine='python')\n",
    "table = pd.read_csv(path + 'AML_table.csv', sep=',', header=0, index_col=0)\n",
    "print table.shape\n",
    "\n",
    "### PROCESS: discard ungated events ###\n",
    "df = df[df.cell_type != 'NotGated']\n",
    "df = df.drop(['Time', 'Cell_length','file_number', 'event_number', 'DNA1(Ir191)Di',\n",
    "              'DNA2(Ir193)Di', 'Viability(Pt195)Di', 'subject'], axis = 1)\n",
    "channels = [item[:item.find('(')] for item in df.columns[:-1]]\n",
    "df.columns = channels + ['cell_type']\n",
    "df = df.loc[df['cell_type'] != 'NotDebrisSinglets']\n",
    "\n",
    "table = table.fillna(0)\n",
    "X = df[channels].values\n",
    "table_headers = list(table)\n",
    "# df2 = pd.DataFrame([[0]*table.shape[1]], columns=table.columns, index =['unknown'])\n",
    "# table = table.append(df2)\n",
    "\n",
    "### transform data\n",
    "data = np.arcsinh((X-1.)/5.)\n",
    "theta_space = np.array([[data[:,d].min(), data[:,d].max()] for d in range(data.shape[1])])\n",
    "\n",
    "\n",
    "cell_type_name2idx = {x:i for i,x in enumerate(table.index)}\n",
    "Y = np.array([cell_type_name2idx[_] for _ in df.cell_type])\n",
    "\n",
    "print data.shape"
   ]
  },
  {
   "cell_type": "code",
   "execution_count": 7,
   "metadata": {
    "collapsed": false
   },
   "outputs": [
    {
     "data": {
      "text/plain": [
       "{'Basophils',\n",
       " 'CD16+ NK cells',\n",
       " 'CD16- NK cells',\n",
       " 'CD34+CD38+CD123+ HSPCs',\n",
       " 'CD34+CD38+CD123- HSPCs',\n",
       " 'CD34+CD38lo HSCs',\n",
       " 'CD4 T cells',\n",
       " 'CD8 T cells',\n",
       " 'Mature B cells',\n",
       " 'Monocytes',\n",
       " 'Plasma B cells',\n",
       " 'Pre B cells',\n",
       " 'Pro B cells',\n",
       " 'pDCs'}"
      ]
     },
     "execution_count": 7,
     "metadata": {},
     "output_type": "execute_result"
    }
   ],
   "source": [
    "set(df.cell_type)"
   ]
  },
  {
   "cell_type": "code",
   "execution_count": 13,
   "metadata": {
    "collapsed": false
   },
   "outputs": [
    {
     "name": "stdout",
     "output_type": "stream",
     "text": [
      "(304, 33)\n",
      "(3295, 33)\n",
      "0.00291791445903\n",
      "0.0316267373109\n"
     ]
    }
   ],
   "source": [
    "print df[df.cell_type == 'CD34+CD38+CD123+ HSPCs'].shape\n",
    "print df[df.cell_type == 'CD34+CD38+CD123- HSPCs'].shape\n",
    "\n",
    "print df[df.cell_type == 'CD34+CD38+CD123+ HSPCs'].shape[0]*1.0 / df.shape[0]\n",
    "print df[df.cell_type == 'CD34+CD38+CD123- HSPCs'].shape[0]*1.0 / df.shape[0]"
   ]
  },
  {
   "cell_type": "code",
   "execution_count": 1,
   "metadata": {
    "collapsed": true
   },
   "outputs": [],
   "source": [
    "cell_population_H = [[0.03775, 0.2509, 0.07165, 0.03845, 0.02695, 0.03565, 0.01245, 0.02745, 0.21375, 0.00245, 0.01155, 0.0138, 0.20885, 0.04835], [0.05695, 0.2567, 0.0362, 0.0379, 0.02785, 0.0352, 0.011, 0.01635, 0.1613, 0.0017, 0.0194, 0.01085, 0.2918, 0.0368], [0.05945, 0.2194, 0.0189, 0.05425, 0.0429, 0.0322, 0.00725, 0.01305, 0.1862, 0.00155, 0.0069, 0.01725, 0.28645, 0.05425], [0.05195, 0.29515, 0.06335, 0.04415, 0.0379, 0.01495, 0.01055, 0.0421, 0.16595, 0.001, 0.00405, 0.01715, 0.2041, 0.04765], [0.0451, 0.34775, 0.0886, 0.0463, 0.0326, 0.02175, 0.01195, 0.0298, 0.16005, 0.00085, 0.0051, 0.03115, 0.12315, 0.05585]]\n",
    "\n",
    "cell_population_SJ = [[0.0588, 0.0448, 0.0015, 0.01805, 0.01655, 0.15305, 0.04805, 0.05315, 0.20305, 0.0112, 0.00405, 0.2002, 0.1311, 0.05645], [0.0452, 0.09025, 0.01835, 0.025, 0.02105, 0.07585, 0.10565, 0.057, 0.2579, 0.0011, 0.00945, 0.08145, 0.151, 0.06075], [0.04995, 0.0439, 0.0023, 0.01465, 0.01295, 0.09865, 0.1224, 0.0824, 0.0884, 0.0011, 0.0054, 0.2021, 0.18985, 0.08595], [0.0381, 0.05265, 0.0055, 0.01905, 0.01335, 0.1471, 0.09265, 0.09885, 0.1292, 0.00045, 0.006, 0.1335, 0.1759, 0.0877], [0.0497, 0.0913, 0.0279, 0.023, 0.01595, 0.0261, 0.0416, 0.03585, 0.27365, 0.00215, 0.00555, 0.0343, 0.24375, 0.1292], [0.07285, 0.1327, 0.02395, 0.0336, 0.0262, 0.0614, 0.0184, 0.0213, 0.25355, 0.00595, 0.0058, 0.03025, 0.2606, 0.05345], [0.0626, 0.0707, 0.0127, 0.02775, 0.02125, 0.1273, 0.0839, 0.09695, 0.0933, 0.00205, 0.00375, 0.06925, 0.2132, 0.1153], [0.1476, 0.08855, 0.0033, 0.0403, 0.0323, 0.03135, 0.021, 0.02565, 0.2893, 0.0176, 0.00395, 0.0001, 0.1461, 0.1529], [0.13945, 0.1069, 0.0075, 0.06765, 0.0476, 0.0073, 0.02515, 0.08355, 0.1399, 0.00435, 0.00105, 0.0011, 0.31585, 0.05265], [0.09635, 0.15115, 0.03045, 0.06175, 0.0481, 0.13805, 0.06075, 0.06195, 0.09405, 0.0194, 0.0117, 0.06985, 0.07305, 0.0834], [0.157, 0.08305, 0.0011, 0.04045, 0.03525, 0.0379, 0.0532, 0.01645, 0.22805, 0.0138, 0.0067, 0.0, 0.23225, 0.0948], [0.0499, 0.07895, 0.0116, 0.0549, 0.0442, 0.14605, 0.1422, 0.07515, 0.0964, 0.0092, 0.00755, 0.0941, 0.11045, 0.07935], [0.0677, 0.20365, 0.0615, 0.068, 0.0546, 0.15065, 0.0343, 0.04125, 0.09435, 0.01175, 0.0079, 0.06175, 0.1032, 0.0394], [0.0686, 0.07195, 0.00845, 0.01705, 0.0132, 0.07585, 0.10345, 0.05355, 0.16895, 0.0015, 0.0143, 0.1172, 0.1844, 0.10155], [0.0109, 0.17575, 0.04155, 0.0401, 0.03435, 0.15305, 0.07215, 0.0895, 0.2334, 0.0105, 0.02115, 0.0171, 0.0925, 0.008], [0.01415, 0.20655, 0.02845, 0.0466, 0.03735, 0.1054, 0.02725, 0.0427, 0.18905, 0.021, 0.0117, 0.13505, 0.12965, 0.0051]]"
   ]
  },
  {
   "cell_type": "code",
   "execution_count": 2,
   "metadata": {
    "collapsed": true
   },
   "outputs": [],
   "source": [
    "import csv\n",
    "\n",
    "with open(\"cell_population_20k_H.csv\", \"wb\") as f:\n",
    "    writer = csv.writer(f)\n",
    "    writer.writerows(cell_population_H)\n",
    "    \n",
    "with open(\"cell_population_20k_SJ.csv\", \"wb\") as f:\n",
    "    writer = csv.writer(f)\n",
    "    writer.writerows(cell_population_SJ)"
   ]
  }
 ],
 "metadata": {
  "kernelspec": {
   "display_name": "Python 2",
   "language": "python",
   "name": "python2"
  },
  "language_info": {
   "codemirror_mode": {
    "name": "ipython",
    "version": 2
   },
   "file_extension": ".py",
   "mimetype": "text/x-python",
   "name": "python",
   "nbconvert_exporter": "python",
   "pygments_lexer": "ipython2",
   "version": "2.7.5"
  }
 },
 "nbformat": 4,
 "nbformat_minor": 0
}
