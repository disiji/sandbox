{
 "cells": [
  {
   "cell_type": "code",
   "execution_count": 1,
   "metadata": {
    "collapsed": true
   },
   "outputs": [],
   "source": [
    "import tensorflow as tf"
   ]
  },
  {
   "cell_type": "code",
   "execution_count": 2,
   "metadata": {},
   "outputs": [
    {
     "name": "stdout",
     "output_type": "stream",
     "text": [
      "8\n"
     ]
    }
   ],
   "source": [
    "# get value of variables\n",
    "a = tf.add(3, 5)\n",
    "sess = tf.Session()\n",
    "with tf.Session() as sess:\n",
    "    print sess.run(a)"
   ]
  },
  {
   "cell_type": "markdown",
   "metadata": {},
   "source": [
    "### To view the graph with TensorBoard: \n",
    " \n",
    " `tensorboard --logdir=\"./graphs\" --port 6006`"
   ]
  },
  {
   "cell_type": "code",
   "execution_count": 3,
   "metadata": {},
   "outputs": [
    {
     "name": "stdout",
     "output_type": "stream",
     "text": [
      "5\n"
     ]
    }
   ],
   "source": [
    "a = tf.constant(2, name=\"a\")\n",
    "b = tf.constant(3, name=\"b\") # name node\n",
    "x = tf.add(a, b, name=\"add\")\n",
    "writer = tf.summary.FileWriter(\"./graphs\", sess.graph) # write graph to file \n",
    "with tf.Session() as sess:\n",
    "    print sess.run(x) \n",
    "writer.close() "
   ]
  },
  {
   "cell_type": "code",
   "execution_count": 4,
   "metadata": {},
   "outputs": [
    {
     "name": "stdout",
     "output_type": "stream",
     "text": [
      "[[2 4]\n",
      " [4 6]] [[0 3]\n",
      " [4 9]]\n"
     ]
    }
   ],
   "source": [
    "# tf.constant(value, dtype=None, shape=None,name='Const', verify_shape=False)\n",
    "a = tf.constant([2, 3], name=\"a\")\n",
    "b = tf.constant([[0, 1], [2, 3]], name=\"b\")\n",
    "x = tf.add(a, b, name=\"add\")\n",
    "y = tf.multiply(a, b, name=\"mul\") # tf.multiply is element wise multiplication\n",
    "with tf.Session() as sess:\n",
    "    x, y = sess.run([x, y])\n",
    "    print x, y "
   ]
  },
  {
   "cell_type": "markdown",
   "metadata": {},
   "source": [
    "### Constant (stored in the graph definition)"
   ]
  },
  {
   "cell_type": "code",
   "execution_count": 5,
   "metadata": {
    "collapsed": true
   },
   "outputs": [],
   "source": [
    "# tf.zeros([2, 3], tf.int32) ==> [[0, 0, 0], [0, 0, 0]]\n",
    "# tf.zeros_like(input_tensor, dtype=None, name=None, optimize=True)\n",
    "# input_tensor is [[0, 1], [2, 3], [4, 5]]\n",
    "# tf.zeros_like(input_tensor) ==> [[0, 0], [0, 0], [0, 0]]\n",
    "# tf.ones(shape, dtype=tf.float32, name=None)\n",
    "# tf.ones_like(input_tensor, dtype=None, name=None, optimize=True)\n",
    "# tf.fill(dims, value, name=None) \n",
    "# tf.fill([2, 3], 8) ==> [[8, 8, 8], [8, 8, 8]]"
   ]
  },
  {
   "cell_type": "markdown",
   "metadata": {},
   "source": [
    "### Variables: define, initialization, eval"
   ]
  },
  {
   "cell_type": "code",
   "execution_count": 20,
   "metadata": {},
   "outputs": [
    {
     "name": "stdout",
     "output_type": "stream",
     "text": [
      "2\n",
      "<tf.Variable 'Variable_13:0' shape=(784, 10) dtype=float32_ref>\n",
      "[[ 0.  0.  0. ...,  0.  0.  0.]\n",
      " [ 0.  0.  0. ...,  0.  0.  0.]\n",
      " [ 0.  0.  0. ...,  0.  0.  0.]\n",
      " ..., \n",
      " [ 0.  0.  0. ...,  0.  0.  0.]\n",
      " [ 0.  0.  0. ...,  0.  0.  0.]\n",
      " [ 0.  0.  0. ...,  0.  0.  0.]]\n"
     ]
    }
   ],
   "source": [
    "# create variable a with scalar value\n",
    "a = tf.Variable(2, name=\"scalar\")\n",
    "# create variable b as a vector\n",
    "b = tf.Variable([2, 3], name=\"vector\")\n",
    "# create variable c as a 2x2 matrix\n",
    "c = tf.Variable([[0, 1], [2, 3]], name=\"matrix\")\n",
    "# create variable W as 784 x 10 tensor, filled with zeros\n",
    "W = tf.Variable(tf.zeros([784,10]))\n",
    "\n",
    "# You have to initialize your varibles !!!\n",
    "# why tf.Variable instead of tf.varible? because Variable is a class\n",
    "# after initalization, use .eval() to get value of a varible\n",
    "\n",
    "# The easiest way is initializing all variables at once:    \n",
    "init = tf.global_variables_initializer()\n",
    "with tf.Session() as sess:\n",
    "    sess.run(init)\n",
    "\n",
    "# Initialize only a subset of variables:\n",
    "init_ab = tf.variables_initializer([a, b], name=\"init_ab\")\n",
    "with tf.Session() as sess:\n",
    "    sess.run(init_ab)\n",
    "    \n",
    "#Initialize a single variable\n",
    "with tf.Session() as sess:\n",
    "    sess.run(W.initializer)\n",
    "    print W\n",
    "    print W.eval()"
   ]
  },
  {
   "cell_type": "code",
   "execution_count": 22,
   "metadata": {},
   "outputs": [
    {
     "name": "stdout",
     "output_type": "stream",
     "text": [
      "10\n",
      "100\n"
     ]
    }
   ],
   "source": [
    "# tf.Varible.assign()\n",
    "W = tf.Variable(10)\n",
    "W.assign(100)\n",
    "with tf.Session() as sess:\n",
    "    sess.run(W.initializer)\n",
    "    print W.eval() # >> 10\n",
    "    \n",
    "W = tf.Variable(10)\n",
    "assign_op = W.assign(100)\n",
    "with tf.Session() as sess:\n",
    "    sess.run(assign_op)\n",
    "    print W.eval() # >> 100"
   ]
  },
  {
   "cell_type": "code",
   "execution_count": 24,
   "metadata": {},
   "outputs": [
    {
     "name": "stdout",
     "output_type": "stream",
     "text": [
      "20\n",
      "8\n"
     ]
    }
   ],
   "source": [
    "# Each session maintains its own copy of variable W = tf.Variable(10)\n",
    "sess1 = tf.Session()\n",
    "sess2 = tf.Session()\n",
    "sess1.run(W.initializer)\n",
    "sess2.run(W.initializer)\n",
    "print sess1.run(W.assign_add(10)) # >> 20\n",
    "print sess2.run(W.assign_sub(2)) # >> 8\n",
    "sess1.close()\n",
    "sess2.close()"
   ]
  },
  {
   "cell_type": "code",
   "execution_count": 45,
   "metadata": {},
   "outputs": [
    {
     "name": "stdout",
     "output_type": "stream",
     "text": [
      "30.0\n",
      "(700, 10)\n",
      "(700, 10)\n"
     ]
    }
   ],
   "source": [
    "# You sometimes see InteractiveSession instead of Session\n",
    "# The only difference is an InteractiveSession makes itself the default \n",
    "\n",
    "sess = tf.InteractiveSession()\n",
    "a = tf.constant(5.0)\n",
    "b = tf.constant(6.0)\n",
    "c = a * b\n",
    "# We can just use 'c.eval()' without specifying the context 'sess'\n",
    "print(c.eval())\n",
    "\n",
    "\n",
    "W = tf.Variable(tf.truncated_normal([700, 10]))\n",
    "sess.run(W.initializer)\n",
    "print W.eval().shape\n",
    "U = tf.Variable(2 * W)\n",
    "sess.run(U.initializer)\n",
    "print U.eval().shape\n",
    "\n",
    "sess.close()"
   ]
  },
  {
   "cell_type": "markdown",
   "metadata": {},
   "source": [
    "#### more Tensorflow operators: example of Huber loss: tf.select; tf.condition"
   ]
  },
  {
   "cell_type": "code",
   "execution_count": 10,
   "metadata": {
    "collapsed": true
   },
   "outputs": [],
   "source": [
    "def huber_loss(labels, predictions, delta=1.0):\n",
    "    residual = tf.abs(predictions - labels) \n",
    "    condition = tf.less(residual, delta)\n",
    "    small_res = 0.5 * tf.square(residual)\n",
    "    large_res = delta * residual - 0.5 * tf.square(delta)\n",
    "    return tf.select(condition, small_res, large_res)"
   ]
  },
  {
   "cell_type": "markdown",
   "metadata": {},
   "source": [
    "### Placeholders"
   ]
  },
  {
   "cell_type": "code",
   "execution_count": 48,
   "metadata": {},
   "outputs": [
    {
     "name": "stdout",
     "output_type": "stream",
     "text": [
      "[ 6.  7.  8.]\n"
     ]
    }
   ],
   "source": [
    "# tf.placeholder(dtype, shape=None, name=None)\n",
    "# Feed the values to placeholders using a dictionary\n",
    "\n",
    "# create a placeholder of type float 32-bit, shape is a vector of 3 elements\n",
    "a = tf.placeholder(tf.float32, shape=[3])\n",
    "# create a constant of type float 32-bit, shape is a vector of 3 elements\n",
    "b = tf.constant([5, 5, 5], tf.float32)\n",
    "# use the placeholder as you would a constant or a variable\n",
    "c = a + b # Short for tf.add(a, b)\n",
    "with tf.Session() as sess:\n",
    "    # feed [1, 2, 3] to placeholder a via the dict {a: [1, 2, 3]}\n",
    "    # fetch value of c\n",
    "    print sess.run(c, {a: [1, 2, 3]}) # the tensor a is the key, not the string ‘a’\n",
    "# >> [6, 7, 8]"
   ]
  },
  {
   "cell_type": "markdown",
   "metadata": {},
   "source": [
    "### Logistic Regression on MNIST"
   ]
  },
  {
   "cell_type": "code",
   "execution_count": 17,
   "metadata": {},
   "outputs": [
    {
     "name": "stdout",
     "output_type": "stream",
     "text": [
      "Extracting MNIST_data/train-images-idx3-ubyte.gz\n",
      "Extracting MNIST_data/train-labels-idx1-ubyte.gz\n",
      "Extracting MNIST_data/t10k-images-idx3-ubyte.gz\n",
      "Extracting MNIST_data/t10k-labels-idx1-ubyte.gz\n",
      "Average cross entropy loss epoch 0: 0.368200082306\n",
      "Average cross entropy loss epoch 1: 0.293354670884\n",
      "Average cross entropy loss epoch 2: 0.286702443722\n",
      "Average cross entropy loss epoch 3: 0.280650958784\n",
      "Average cross entropy loss epoch 4: 0.275154459727\n",
      "Average cross entropy loss epoch 5: 0.269869707542\n",
      "Average cross entropy loss epoch 6: 0.26985867417\n",
      "Average cross entropy loss epoch 7: 0.268773471264\n",
      "Average cross entropy loss epoch 8: 0.266009414981\n",
      "Average cross entropy loss epoch 9: 0.266430595538\n",
      "Average cross entropy loss epoch 10: 0.262066108555\n",
      "Average cross entropy loss epoch 11: 0.264047322087\n",
      "Average cross entropy loss epoch 12: 0.263694125542\n",
      "Average cross entropy loss epoch 13: 0.259448481641\n",
      "Average cross entropy loss epoch 14: 0.258736580819\n",
      "Average cross entropy loss epoch 15: 0.258242816254\n",
      "Average cross entropy loss epoch 16: 0.256921284943\n",
      "Average cross entropy loss epoch 17: 0.258545639284\n",
      "Average cross entropy loss epoch 18: 0.259741769231\n",
      "Average cross entropy loss epoch 19: 0.254854782391\n",
      "Average cross entropy loss epoch 20: 0.259635333241\n",
      "Average cross entropy loss epoch 21: 0.254098652126\n",
      "Average cross entropy loss epoch 22: 0.255139145002\n",
      "Average cross entropy loss epoch 23: 0.251859438881\n",
      "Average cross entropy loss epoch 24: 0.256029188095\n",
      "Average cross entropy loss epoch 25: 0.25653954677\n",
      "Average cross entropy loss epoch 26: 0.254307246309\n",
      "Average cross entropy loss epoch 27: 0.250369638413\n",
      "Average cross entropy loss epoch 28: 0.253617909804\n",
      "Average cross entropy loss epoch 29: 0.251051929742\n",
      "Total time: 22.2418789864 seconds\n",
      "Optimization Finished!\n",
      "Accuracy 0.9116\n"
     ]
    }
   ],
   "source": [
    "import os\n",
    "os.environ['TF_CPP_MIN_LOG_LEVEL']='2'\n",
    "\n",
    "import numpy as np\n",
    "import tensorflow as tf\n",
    "from tensorflow.examples.tutorials.mnist import input_data\n",
    "import time\n",
    "\n",
    "# Define paramaters for the model\n",
    "learning_rate = 0.01\n",
    "batch_size = 128\n",
    "n_epochs = 30\n",
    "\n",
    "# Step 1: Read in data\n",
    "# using TF Learn's built in function to load MNIST data to the folder data/mnist\n",
    "mnist = input_data.read_data_sets('MNIST_data', one_hot=True)\n",
    "\n",
    "# Step 2: create placeholders for features and labels\n",
    "# each image in the MNIST data is of shape 28*28 = 784\n",
    "# therefore, each image is represented with a 1x784 tensor\n",
    "# there are 10 classes for each image, corresponding to digits 0 - 9. \n",
    "# each lable is one hot vector.\n",
    "X = tf.placeholder(tf.float32, [batch_size, 784], name='X_placeholder') \n",
    "Y = tf.placeholder(tf.int32, [batch_size, 10], name='Y_placeholder')\n",
    "\n",
    "# Step 3: create weights and bias\n",
    "# w is initialized to random variables with mean of 0, stddev of 0.01\n",
    "# b is initialized to 0\n",
    "# shape of w depends on the dimension of X and Y so that Y = tf.matmul(X, w)\n",
    "# shape of b depends on Y\n",
    "w = tf.Variable(tf.random_normal(shape=[784, 10], stddev=0.01), name='weights')\n",
    "b = tf.Variable(tf.zeros([1, 10]), name=\"bias\")\n",
    "\n",
    "# Step 4: build model\n",
    "# the model that returns the logits.\n",
    "# this logits will be later passed through softmax layer\n",
    "logits = tf.matmul(X, w) + b \n",
    "\n",
    "# Step 5: define loss function\n",
    "# use cross entropy of softmax of logits as the loss function\n",
    "entropy = tf.nn.softmax_cross_entropy_with_logits(logits=logits, labels=Y, name='loss')\n",
    "loss = tf.reduce_mean(entropy) # computes the mean over all the examples in the batch\n",
    "\n",
    "# Step 6: define training op\n",
    "# using gradient descent with learning rate of 0.01 to minimize loss\n",
    "optimizer = tf.train.AdamOptimizer(learning_rate).minimize(loss)\n",
    "\n",
    "with tf.Session() as sess:\n",
    "\t# to visualize using TensorBoard\n",
    "\twriter = tf.summary.FileWriter('./graphs/logistic_reg', sess.graph)\n",
    "\tstart_time = time.time()\n",
    "\tsess.run(tf.global_variables_initializer())\t\n",
    "\tn_batches = int(mnist.train.num_examples/batch_size)\n",
    "    \n",
    "\tfor i in range(n_epochs): # train the model n_epochs times\n",
    "\t\ttotal_loss = 0\n",
    "\t\tfor _ in range(n_batches):\n",
    "\t\t\tX_batch, Y_batch = mnist.train.next_batch(batch_size)\n",
    "\t\t\t_, loss_batch = sess.run([optimizer, loss], feed_dict={X: X_batch, Y:Y_batch}) \n",
    "\t\t\ttotal_loss += loss_batch\n",
    "\t\tprint('Average cross entropy loss epoch {0}: {1}'.format(i, total_loss/n_batches))\n",
    "\tprint('Total time: {0} seconds'.format(time.time() - start_time))\n",
    "\tprint('Optimization Finished!') # should be around 0.35 after 25 epochs\n",
    "    \n",
    "\t# test the model\t\n",
    "\t# defined new nodes in the graph!\n",
    "\tpreds = tf.nn.softmax(logits)\n",
    "\tcorrect_preds = tf.equal(tf.argmax(preds, 1), tf.argmax(Y, 1))\n",
    "\taccuracy = tf.reduce_sum(tf.cast(correct_preds, tf.float32)) # need numpy.count_nonzero(boolarr) :(\n",
    "\t\n",
    "\tn_batches = int(mnist.test.num_examples/batch_size)\n",
    "\ttotal_correct_preds = 0\n",
    "\tfor i in range(n_batches):\n",
    "\t\tX_batch, Y_batch = mnist.test.next_batch(batch_size)\n",
    "\t\taccuracy_batch = sess.run(accuracy, feed_dict={X: X_batch, Y:Y_batch}) \n",
    "\t\ttotal_correct_preds += accuracy_batch\n",
    "\tprint('Accuracy {0}'.format(total_correct_preds/mnist.test.num_examples))\n",
    "    \n",
    "\twriter.close()"
   ]
  },
  {
   "cell_type": "markdown",
   "metadata": {},
   "source": [
    "### word2vec with NCE loss and code to visualize the embeddings on TensorBoard\n",
    "\n",
    "This is an important example showing how to manage experiments with Tensorflow and OOP. http://web.stanford.edu/class/cs20si/lectures/slides_05.pdf explains the functions used in the code. Understanding this demo can be very helpful."
   ]
  },
  {
   "cell_type": "code",
   "execution_count": 2,
   "metadata": {},
   "outputs": [
    {
     "name": "stdout",
     "output_type": "stream",
     "text": [
      "INFO:tensorflow:Summary name histogram loss is illegal; using histogram_loss instead.\n",
      "Dataset ready\n",
      "Average loss at step 1999: 113.6\n",
      "Average loss at step 3999:  52.5\n",
      "Average loss at step 5999:  33.8\n",
      "Average loss at step 7999:  23.6\n",
      "Average loss at step 9999:  17.7\n",
      "Average loss at step 11999:  13.7\n",
      "Average loss at step 13999:  11.8\n",
      "Average loss at step 15999:  10.0\n",
      "Average loss at step 17999:   8.5\n",
      "Average loss at step 19999:   8.0\n",
      "Average loss at step 21999:   7.0\n",
      "Average loss at step 23999:   7.0\n",
      "Average loss at step 25999:   6.8\n",
      "Average loss at step 27999:   6.4\n",
      "Average loss at step 29999:   5.9\n",
      "Average loss at step 31999:   6.0\n",
      "Average loss at step 33999:   5.7\n",
      "Average loss at step 35999:   5.7\n",
      "Average loss at step 37999:   5.5\n",
      "Average loss at step 39999:   5.2\n",
      "Average loss at step 41999:   5.4\n",
      "Average loss at step 43999:   5.3\n",
      "Average loss at step 45999:   5.2\n",
      "Average loss at step 47999:   5.2\n",
      "Average loss at step 49999:   5.0\n",
      "Average loss at step 51999:   5.0\n",
      "Average loss at step 53999:   5.2\n",
      "Average loss at step 55999:   5.0\n",
      "Average loss at step 57999:   5.0\n",
      "Average loss at step 59999:   4.9\n",
      "Average loss at step 61999:   5.0\n",
      "Average loss at step 63999:   4.8\n",
      "Average loss at step 65999:   4.6\n",
      "Average loss at step 67999:   5.0\n",
      "Average loss at step 69999:   4.9\n",
      "Average loss at step 71999:   4.8\n",
      "Average loss at step 73999:   4.8\n",
      "Average loss at step 75999:   4.7\n",
      "Average loss at step 77999:   4.8\n",
      "Average loss at step 79999:   4.8\n",
      "Average loss at step 81999:   4.8\n",
      "Average loss at step 83999:   4.8\n",
      "Average loss at step 85999:   4.8\n",
      "Average loss at step 87999:   4.7\n",
      "Average loss at step 89999:   4.7\n",
      "Average loss at step 91999:   4.7\n",
      "Average loss at step 93999:   4.7\n",
      "Average loss at step 95999:   4.7\n",
      "Average loss at step 97999:   4.6\n",
      "Average loss at step 99999:   4.7\n"
     ]
    }
   ],
   "source": [
    "from __future__ import absolute_import\n",
    "from __future__ import division\n",
    "from __future__ import print_function\n",
    "\n",
    "import os\n",
    "os.environ['TF_CPP_MIN_LOG_LEVEL']='2'\n",
    "\n",
    "import numpy as np\n",
    "from tensorflow.contrib.tensorboard.plugins import projector\n",
    "import tensorflow as tf\n",
    "\n",
    "from process_data import process_data\n",
    "import utils\n",
    "\n",
    "VOCAB_SIZE = 50000\n",
    "BATCH_SIZE = 128\n",
    "EMBED_SIZE = 128 # dimension of the word embedding vectors\n",
    "SKIP_WINDOW = 1 # the context window\n",
    "NUM_SAMPLED = 64    # Number of negative examples to sample.\n",
    "LEARNING_RATE = 1.0\n",
    "NUM_TRAIN_STEPS = 100000\n",
    "WEIGHTS_FLD = 'processed/'\n",
    "SKIP_STEP = 2000\n",
    "\n",
    "class SkipGramModel:\n",
    "    \"\"\" Build the graph for word2vec model \"\"\"\n",
    "    def __init__(self, vocab_size, embed_size, batch_size, num_sampled, learning_rate):\n",
    "        self.vocab_size = vocab_size\n",
    "        self.embed_size = embed_size\n",
    "        self.batch_size = batch_size\n",
    "        self.num_sampled = num_sampled\n",
    "        self.lr = learning_rate\n",
    "        self.global_step = tf.Variable(0, dtype=tf.int32, trainable=False, name='global_step')\n",
    "\n",
    "    def _create_placeholders(self):\n",
    "        \"\"\" Step 1: define the placeholders for input and output \"\"\"\n",
    "        with tf.name_scope(\"data\"):\n",
    "            self.center_words = tf.placeholder(tf.int32, shape=[self.batch_size], name='center_words')\n",
    "            self.target_words = tf.placeholder(tf.int32, shape=[self.batch_size, 1], name='target_words')\n",
    "\n",
    "    def _create_embedding(self):\n",
    "        \"\"\" Step 2: define weights. In word2vec, it's actually the weights that we care about \"\"\"\n",
    "        # Assemble this part of the graph on the CPU. You can change it to GPU if you have GPU\n",
    "        with tf.device('/cpu:0'):\n",
    "            with tf.name_scope(\"embed\"):\n",
    "                self.embed_matrix = tf.Variable(tf.random_uniform([self.vocab_size, \n",
    "                                                                    self.embed_size], -1.0, 1.0), \n",
    "                                                                    name='embed_matrix')\n",
    "\n",
    "    def _create_loss(self):\n",
    "        \"\"\" Step 3 + 4: define the model + the loss function \"\"\"\n",
    "        with tf.device('/cpu:0'):\n",
    "            with tf.name_scope(\"loss\"):\n",
    "                # Step 3: define the inference\n",
    "                embed = tf.nn.embedding_lookup(self.embed_matrix, self.center_words, name='embed')\n",
    "\n",
    "                # Step 4: define loss function\n",
    "                # construct variables for NCE loss\n",
    "                nce_weight = tf.Variable(tf.truncated_normal([self.vocab_size, self.embed_size],\n",
    "                                                            stddev=1.0 / (self.embed_size ** 0.5)), \n",
    "                                                            name='nce_weight')\n",
    "                nce_bias = tf.Variable(tf.zeros([VOCAB_SIZE]), name='nce_bias')\n",
    "\n",
    "                # define loss function to be NCE loss function\n",
    "                self.loss = tf.reduce_mean(tf.nn.nce_loss(weights=nce_weight, \n",
    "                                                    biases=nce_bias, \n",
    "                                                    labels=self.target_words, \n",
    "                                                    inputs=embed, \n",
    "                                                    num_sampled=self.num_sampled, \n",
    "                                                    num_classes=self.vocab_size), name='loss')\n",
    "    def _create_optimizer(self):\n",
    "        \"\"\" Step 5: define optimizer \"\"\"\n",
    "        with tf.device('/cpu:0'):\n",
    "            self.optimizer = tf.train.GradientDescentOptimizer(self.lr).minimize(self.loss, \n",
    "                                                              global_step=self.global_step)\n",
    "\n",
    "    def _create_summaries(self):\n",
    "        with tf.name_scope(\"summaries\"):\n",
    "            tf.summary.scalar(\"loss\", self.loss)\n",
    "            tf.summary.histogram(\"histogram loss\", self.loss)\n",
    "            # because you have several summaries, we should merge them all\n",
    "            # into one op to make it easier to manage\n",
    "            self.summary_op = tf.summary.merge_all()\n",
    "\n",
    "    def build_graph(self):\n",
    "        \"\"\" Build the graph for our model \"\"\"\n",
    "        self._create_placeholders()\n",
    "        self._create_embedding()\n",
    "        self._create_loss()\n",
    "        self._create_optimizer()\n",
    "        self._create_summaries()\n",
    "\n",
    "def train_model(model, batch_gen, num_train_steps, weights_fld):\n",
    "    saver = tf.train.Saver() \n",
    "    # defaults to saving all variables - in this case embed_matrix, nce_weight, nce_bias\n",
    " \n",
    "    initial_step = 0\n",
    "    utils.make_dir('checkpoints')\n",
    "    with tf.Session() as sess:\n",
    "        sess.run(tf.global_variables_initializer())\n",
    "        ckpt = tf.train.get_checkpoint_state(os.path.dirname('checkpoints/checkpoint'))\n",
    "        # if that checkpoint exists, restore from checkpoint\n",
    "        if ckpt and ckpt.model_checkpoint_path:\n",
    "            saver.restore(sess, ckpt.model_checkpoint_path)\n",
    "\n",
    "        total_loss = 0.0 # we use this to calculate late average loss in the last SKIP_STEP steps\n",
    "        writer = tf.summary.FileWriter('improved_graph/lr' + str(LEARNING_RATE), sess.graph)\n",
    "        initial_step = model.global_step.eval()\n",
    "        for index in range(initial_step, initial_step + num_train_steps):\n",
    "            centers, targets = next(batch_gen)\n",
    "            feed_dict={model.center_words: centers, model.target_words: targets}\n",
    "            loss_batch, _, summary = sess.run([model.loss, model.optimizer, model.summary_op], \n",
    "                                              feed_dict=feed_dict)\n",
    "            writer.add_summary(summary, global_step=index)\n",
    "            total_loss += loss_batch\n",
    "            if (index + 1) % SKIP_STEP == 0:\n",
    "                print('Average loss at step {}: {:5.1f}'.format(index, total_loss / SKIP_STEP))\n",
    "                total_loss = 0.0\n",
    "                saver.save(sess, 'checkpoints/skip-gram', index)\n",
    "        \n",
    "        ####################\n",
    "        # code to visualize the embeddings. uncomment the below to visualize embeddings\n",
    "        # run \"'tensorboard --logdir='processed'\" to see the embeddings\n",
    "        final_embed_matrix = sess.run(model.embed_matrix)\n",
    "        \n",
    "        # it has to variable. constants don't work here. you can't reuse model.embed_matrix\n",
    "        embedding_var = tf.Variable(final_embed_matrix[:1000], name='embedding')\n",
    "        sess.run(embedding_var.initializer)\n",
    "\n",
    "        config = projector.ProjectorConfig()\n",
    "        summary_writer = tf.summary.FileWriter('processed')\n",
    "\n",
    "        # add embedding to the config file\n",
    "        embedding = config.embeddings.add()\n",
    "        embedding.tensor_name = embedding_var.name\n",
    "        \n",
    "        # link this tensor to its metadata file, in this case the first 500 words of vocab\n",
    "        embedding.metadata_path = 'processed/vocab_1000.tsv'\n",
    "\n",
    "        # saves a configuration file that TensorBoard will read during startup.\n",
    "        projector.visualize_embeddings(summary_writer, config)\n",
    "        saver_embed = tf.train.Saver([embedding_var])\n",
    "        saver_embed.save(sess, 'processed/model3.ckpt', 1)\n",
    "\n",
    "def main():\n",
    "    model = SkipGramModel(VOCAB_SIZE, EMBED_SIZE, BATCH_SIZE, NUM_SAMPLED, LEARNING_RATE)\n",
    "    model.build_graph()\n",
    "    batch_gen = process_data(VOCAB_SIZE, BATCH_SIZE, SKIP_WINDOW)\n",
    "    train_model(model, batch_gen, NUM_TRAIN_STEPS, WEIGHTS_FLD)\n",
    "\n",
    "if __name__ == '__main__':\n",
    "    main()"
   ]
  },
  {
   "cell_type": "code",
   "execution_count": null,
   "metadata": {
    "collapsed": true
   },
   "outputs": [],
   "source": []
  },
  {
   "cell_type": "code",
   "execution_count": null,
   "metadata": {
    "collapsed": true
   },
   "outputs": [],
   "source": []
  }
 ],
 "metadata": {
  "kernelspec": {
   "display_name": "Python 2",
   "language": "python",
   "name": "python2"
  },
  "language_info": {
   "codemirror_mode": {
    "name": "ipython",
    "version": 2
   },
   "file_extension": ".py",
   "mimetype": "text/x-python",
   "name": "python",
   "nbconvert_exporter": "python",
   "pygments_lexer": "ipython2",
   "version": "2.7.13"
  }
 },
 "nbformat": 4,
 "nbformat_minor": 2
}
