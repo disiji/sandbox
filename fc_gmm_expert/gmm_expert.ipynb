{
 "cells": [
  {
   "cell_type": "code",
   "execution_count": 1,
   "metadata": {
    "collapsed": true
   },
   "outputs": [],
   "source": [
    "import os\n",
    "import sys\n",
    "import glob\n",
    "import matplotlib.pyplot as plt\n",
    "import numpy as np\n",
    "import pandas as pd\n",
    "from sklearn.mixture import GaussianMixture\n",
    "from sklearn.neighbors.kde import KernelDensity\n",
    "\n",
    "%matplotlib inline\n",
    "plt.style.use('ggplot')\n",
    "np.random.seed(1234)"
   ]
  },
  {
   "cell_type": "code",
   "execution_count": 2,
   "metadata": {
    "collapsed": true
   },
   "outputs": [],
   "source": [
    "PATH = '/Users/disiji/Dropbox/current/flow_cytometry/acdc/data/'"
   ]
  },
  {
   "cell_type": "code",
   "execution_count": 44,
   "metadata": {},
   "outputs": [
    {
     "name": "stdout",
     "output_type": "stream",
     "text": [
      "(104184, 32)\n"
     ]
    }
   ],
   "source": [
    "# load AML data and table\n",
    "##### X: np.array, flow cytometry data, arcsin transformed\n",
    "##### T: table of expert knowledge\n",
    "channels = ['CD45','CD45RA', 'CD19', 'CD11b', 'CD4', 'CD8', 'CD34',\n",
    "           'CD20', 'CD33', 'CD123', 'CD38', 'CD90', 'CD3']\n",
    "path = PATH + 'AML_benchmark/'\n",
    "df = pd.read_csv(path + 'AML_benchmark.csv.gz', sep=',', header = 0, compression = 'gzip')\n",
    "## discard ungated events\n",
    "df = df[df.cell_type != 'NotGated']\n",
    "\n",
    "df = df.drop(['Time', 'Cell_length','file_number', 'event_number', 'DNA1(Ir191)Di',\n",
    "              'DNA2(Ir193)Di', 'Viability(Pt195)Di', 'subject'], axis = 1)\n",
    "\n",
    "channels = [item[:item.find('(')] for item in df.columns[:-1]]\n",
    "df.columns = channels + ['cell_type']\n",
    "\n",
    "df = df.loc[df['cell_type'] != 'NotDebrisSinglets']\n",
    "\n",
    "table = pd.read_csv(path + 'AML_table.csv', sep=',', header=0, index_col=0)\n",
    "table = table.fillna(0)\n",
    "X = df[channels].values\n",
    "\n",
    "print X.shape"
   ]
  },
  {
   "cell_type": "code",
   "execution_count": 45,
   "metadata": {
    "collapsed": true
   },
   "outputs": [],
   "source": [
    "table = pd.read_csv(path + 'AML_table.csv', sep=',', header=0, index_col=0)\n",
    "table = table.fillna(0)\n",
    "T = table.values\n",
    "\n",
    "N,D = X.shape\n",
    "K = T.shape[0]\n",
    "\n",
    "cell_type_name2idx = {x:i for i,x in enumerate(table.index)}\n",
    "\n",
    "# build the projection from marker to k\n",
    "marker2cluster = [None for j in range(D)]\n",
    "for j in range(D):\n",
    "    marker2cluster[j] = dict()\n",
    "    marker2cluster[j]['high'] = np.where(T[:,j] == 1)[0].astype(int) # list of clusters that T[j,k] = 1\n",
    "    marker2cluster[j]['low'] = np.where(T[:,j] == -1)[0].astype(int) # list of clusters that T[j,k] = -1"
   ]
  },
  {
   "cell_type": "code",
   "execution_count": 46,
   "metadata": {
    "collapsed": true
   },
   "outputs": [],
   "source": [
    "N = int(X.shape[0]*0.8)\n",
    "Y = np.array([cell_type_name2idx[_] for _ in df.cell_type])\n",
    "idx = np.random.choice(X.shape[0], N, replace=False)\n",
    "X = X[idx,:]\n",
    "Y = Y[idx]"
   ]
  },
  {
   "cell_type": "code",
   "execution_count": null,
   "metadata": {
    "collapsed": true
   },
   "outputs": [],
   "source": [
    "# Kernel density estimation\n",
    "# p(x_ij) = KDEs[j].score_sample(x_i)\n",
    "KDEs = [None for d in range(D)]\n",
    "kde_scores = [None for d in range(D)]\n",
    "for d in range(D):\n",
    "    KDEs[d] = KernelDensity(kernel='gaussian', bandwidth=0.2).fit(X[:,d].reshape(-1, 1))\n",
    "    kde_scores[d] = KDEs[d].score_samples(X[:,d].reshape(-1, 1))\n",
    "kde_scores  = np.array(kde_scores).T"
   ]
  },
  {
   "cell_type": "markdown",
   "metadata": {},
   "source": [
    "## Learning $\\{Z_i\\}$ and model paraeters $\\{\\theta_d\\}$\n",
    "\n",
    "$\\theta_d  = \\{\\mu^l_d,\\sigma^l_d,\\mu^h_d,\\sigma^h_d\\}$\n",
    "\n",
    "Iterates between:\n",
    "- Optimize assignments $\\{Z_i\\}$ given model parameters $\\{\\theta_d\\}$\n",
    "e.g. \n",
    "assign $x_i$ to $argmax_k P(z_i = k|x_i)$, where \n",
    "$P(z_i = k|x_i) \\propto P(z_i = k)P(x_i|z_i = k)$. And $P(x_i|z_i = k) = \\prod_j P(x_{ij}|c_{kj})$.\n",
    "$P(x_{ij}|c_{kj}=0)$ is estimated with kernel density estimation. $P(x_{ij}|c_{kj}=1) = N(x_{ij}|\\mu^h_j,\\sigma^h_j)$  and $P(x_{ij}|c_{kj}=-1) = N(x_{ij}|\\mu^l_j,\\sigma^l_j)$.\n",
    "- For each dimension $d$ find $\\{\\theta_d\\}$ that maximize mixture likelihood on data points that  participate in group k that $c_{ik} = 1, -1$. "
   ]
  },
  {
   "cell_type": "code",
   "execution_count": null,
   "metadata": {
    "collapsed": true,
    "scrolled": true
   },
   "outputs": [],
   "source": [
    "def gauss_logL(x, mu, sigma):\n",
    "    return -0.5 * np.log(2*np.pi) - np.log(sigma) - 0.5 *((x - mu) ** 2 / sigma ** 2)"
   ]
  },
  {
   "cell_type": "code",
   "execution_count": null,
   "metadata": {
    "scrolled": false
   },
   "outputs": [],
   "source": [
    "# create variables for membership of cells, parameters of the model\n",
    "Z = np.zeros(N).astype(int)\n",
    "mu_high = np.zeros(D) # mean\n",
    "mu_low = np.zeros(D) # mean\n",
    "sigma_high = np.zeros(D) # std\n",
    "sigma_low = np.zeros(D) # std\n",
    "\n",
    "# fit 2 dimensional GMM in each dimension for parameter initialization\n",
    "models = [None for d in range(D)]\n",
    "for d in range(D):\n",
    "    models[d] = GaussianMixture(2).fit(X[:,d].reshape(-1, 1))\n",
    "    \n",
    "    params = np.array([models[d].means_.reshape(1,-1)[0],models[d].covariances_.reshape(1,-1)[0]])\n",
    "    if params[0,0] > params[0,1]:\n",
    "        params = params[:,[1,0]]\n",
    "    params[1:] = np.sqrt(params[1:])\n",
    "    mu_low[d] = params[0,0]\n",
    "    mu_high[d] = params[0,1]\n",
    "    sigma_low[d] = params[1,0]\n",
    "    sigma_high[d] = params[1,1]\n",
    "\n",
    "max_iter = 100\n",
    "p_k = np.array([1.0/K for _ in range(K)])\n",
    "\n",
    "for iter in range(max_iter):\n",
    "    \n",
    "    if iter % 10 == 0:\n",
    "        print \"iteration %d updating cell type assignments\" % iter\n",
    "        \n",
    "    ####################### update assignments Z\n",
    "    ###possible way to speed up: compute N*D matrix for each k and then compare    \n",
    "    prob = np.zeros([N,K])\n",
    "    prob += np.log(p_k + 0.000001)\n",
    "    for k in range(K):\n",
    "        index = np.where(T[k,:] != 0)[0] # markers that are  + or - 1 for cluster k\n",
    "        for _ in index:\n",
    "            if T[k,_] == 1:\n",
    "                prob[:,k] += gauss_logL(X[:,_], mu_high[_],sigma_high[_])\n",
    "            if T[k,_] == -1:\n",
    "                prob[:,k] += gauss_logL(X[:,_], mu_low[_],sigma_low[_])\n",
    "            prob[:,k] -= kde_scores[:,_]\n",
    "        \n",
    "    Z = np.argmax(prob, axis=1)                \n",
    "    # compute P(z_i = k)\n",
    "    p_k = np.array([sum(Z==k)*1.0/N for k in range(K)])\n",
    "    \n",
    "    if iter % 10 == 0:\n",
    "        print \"iteration %d  updating model parameters\" % iter\n",
    "    \n",
    "    ####################### update model parameters\n",
    "    for j in range(D):\n",
    "        index_high = np.array([i for i in range(N) if Z[i] in marker2cluster[j]['high']])\n",
    "        if len(index_high) > 0:\n",
    "            mu_high[j] = np.mean(X[index_high,j])\n",
    "            sigma_high[j] = np.std(X[index_high,j])\n",
    "        index_low = np.array([i for i in range(N) if Z[i] in marker2cluster[j]['low']])\n",
    "        if len(index_low) > 0:\n",
    "            mu_low[j] = np.mean(X[index_low,j])\n",
    "            sigma_low[j] = np.std(X[index_low,j])\n",
    "            \n",
    "    ###################### compute clssfication error on training data\n",
    "    \n",
    "    if iter % 10 == 0:\n",
    "        print \"iteration %d  computing classfication error rate on training data\" % iter\n",
    "        error_rate = sum(Y != Z)*1.0/ N\n",
    "        print \"iteration % d error rate on training data: %.3f\" % (iter,error_rate)\n",
    "\n",
    "    if iter % 20 == 0:\n",
    "        bins = K\n",
    "        plt.hist(Y, bins, alpha=0.5, label='Y:cell type')\n",
    "        plt.hist(Z, bins, alpha=0.5, label='Z:prediction')\n",
    "        plt.legend(loc='upper right')\n",
    "        plt.show()"
   ]
  }
 ],
 "metadata": {
  "kernelspec": {
   "display_name": "Python 2",
   "language": "python",
   "name": "python2"
  },
  "language_info": {
   "codemirror_mode": {
    "name": "ipython",
    "version": 2
   },
   "file_extension": ".py",
   "mimetype": "text/x-python",
   "name": "python",
   "nbconvert_exporter": "python",
   "pygments_lexer": "ipython2",
   "version": "2.7.13"
  }
 },
 "nbformat": 4,
 "nbformat_minor": 2
}
